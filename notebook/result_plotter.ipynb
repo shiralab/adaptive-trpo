{
 "cells": [
  {
   "cell_type": "markdown",
   "id": "4ad357dc-d413-45bd-b9f9-5b4ccaa120c4",
   "metadata": {},
   "source": [
    "# Plot training results from csv files"
   ]
  },
  {
   "cell_type": "code",
   "execution_count": null,
   "id": "0a5b76b0-7f97-447f-97d5-e3d53d12afab",
   "metadata": {},
   "outputs": [],
   "source": [
    "import matplotlib.pyplot as plt\n",
    "import pandas as pd\n",
    "import seaborn as sns\n",
    "import numpy as np\n",
    "from rliable import library as rly\n",
    "from rliable import metrics, plot_utils"
   ]
  },
  {
   "cell_type": "code",
   "execution_count": null,
   "id": "595d7385-cfbe-41f6-b45e-c79317de17df",
   "metadata": {},
   "outputs": [],
   "source": [
    "pd.set_option('display.max_columns', 50)\n",
    "sns.set_theme(style=\"darkgrid\")\n",
    "sns.set_context(\"notebook\", font_scale=1.5, rc={\"font.size\":15,\"axes.titlesize\":20,\"axes.labelsize\":20}) \n",
    "plt.rcParams['figure.figsize'] = (10, 10)\n",
    "plt.rcParams['font.size'] = 15\n",
    "plt.rcParams['font.family'] = 'sans-serif'\n",
    "plt.rcParams['mathtext.fontset'] = 'cm'\n",
    "plt.rcParams['xtick.labelsize'] = 15\n",
    "plt.rcParams['ytick.labelsize'] = 15\n",
    "plt.rcParams['legend.frameon'] = True"
   ]
  },
  {
   "cell_type": "code",
   "execution_count": null,
   "id": "90d56ea1-ba94-44cf-bb05-3ab1737419b1",
   "metadata": {
    "tags": []
   },
   "outputs": [],
   "source": [
    "data_name = \"test\"  # \"target_kl\""
   ]
  },
  {
   "cell_type": "code",
   "execution_count": null,
   "id": "2c695d87-8713-44cf-bd0a-cd9423d1abb8",
   "metadata": {
    "tags": []
   },
   "outputs": [],
   "source": [
    "df = pd.read_csv(f\"../data/{data_name}/train.csv\").drop(\"Unnamed: 0\", axis=1)\n",
    "df"
   ]
  },
  {
   "cell_type": "code",
   "execution_count": null,
   "id": "f381df39-27e6-45b7-98e0-1ae5a4773acf",
   "metadata": {},
   "outputs": [],
   "source": [
    "if data_name == \"target_kl\":\n",
    "    df[\"algorithm\"] = df[\"algorithm\"].str.upper() + \"/\" + df[\"init_target_kl\"].astype(\"str\")\n",
    "elif data_name == \"test\":\n",
    "    df.loc[np.isclose(df[\"init_target_kl\"], 0.0025347), \"algorithm\"] = \"TRPO (Walker2D)\"\n",
    "    df.loc[np.isclose(df[\"init_target_kl\"], 0.00029658), \"algorithm\"] = \"TRPO (Hopper)\"\n",
    "    df.loc[np.isclose(df[\"init_target_kl\"], 0.00556098), \"algorithm\"] = \"ATRPO (Walker2D)\"\n",
    "    df.loc[np.isclose(df[\"init_target_kl\"], 0.00128343), \"algorithm\"] = \"ATRPO (Hopper)\"\n",
    "\n",
    "df"
   ]
  },
  {
   "cell_type": "code",
   "execution_count": null,
   "id": "10e32274-7e61-41a9-bf00-23b7424fc77b",
   "metadata": {
    "tags": []
   },
   "outputs": [],
   "source": [
    "df_final_score = pd.read_csv(f\"../data/{data_name}/final_score.csv\").drop(\"Unnamed: 0\", axis=1)\n",
    "df_final_score"
   ]
  },
  {
   "cell_type": "code",
   "execution_count": null,
   "id": "3b008a12-3b97-4270-a0fd-2185ddb2291c",
   "metadata": {
    "tags": []
   },
   "outputs": [],
   "source": [
    "if data_name == \"target_kl\":\n",
    "    df_final_score[\"algorithm\"] = df_final_score[\"algorithm\"].str.upper() + \"/\" + df_final_score[\"init_target_kl\"].astype(\"str\")\n",
    "elif data_name == \"test\":\n",
    "    df_final_score.loc[np.isclose(df_final_score[\"init_target_kl\"], 0.0025347), \"algorithm\"] = \"TRPO (Walker2D)\"\n",
    "    df_final_score.loc[np.isclose(df_final_score[\"init_target_kl\"], 0.00029658), \"algorithm\"] = \"TRPO (Hopper)\"\n",
    "    df_final_score.loc[np.isclose(df_final_score[\"init_target_kl\"], 0.00556098), \"algorithm\"] = \"ATRPO (Walker2D)\"\n",
    "    df_final_score.loc[np.isclose(df_final_score[\"init_target_kl\"], 0.00128343), \"algorithm\"] = \"ATRPO (Hopper)\"\n",
    "\n",
    "df_final_score"
   ]
  },
  {
   "cell_type": "markdown",
   "id": "6aad2d23-9e51-416f-b37e-75ab43b2367e",
   "metadata": {},
   "source": [
    "## Plot results"
   ]
  },
  {
   "cell_type": "code",
   "execution_count": null,
   "id": "646ef70b-3305-4e2f-8ba6-a0f48b613b0a",
   "metadata": {},
   "outputs": [],
   "source": [
    "algorithms = sorted(list(df.algorithm.unique()))\n",
    "algorithms"
   ]
  },
  {
   "cell_type": "code",
   "execution_count": null,
   "id": "9b5661e2-5d0e-4d7f-a221-51e512f8b794",
   "metadata": {},
   "outputs": [],
   "source": [
    "seeds = [str(seed) for seed in df[\"seed\"].unique()]\n",
    "seeds"
   ]
  },
  {
   "cell_type": "code",
   "execution_count": null,
   "id": "8358c419-1110-4e2b-b24c-509ebb26b024",
   "metadata": {},
   "outputs": [],
   "source": [
    "tasks = [\n",
    "    \"halfcheetah\",\n",
    "    \"ant\",\n",
    "    \"hopper\",\n",
    "    \"walker2d\",\n",
    "    \"swimmer\",\n",
    "    \"reacher\",\n",
    "    \"pusher\",\n",
    "    \"inverted_pendulum\",\n",
    "    \"inverted_double_pendulum\",\n",
    "]\n",
    "tasks"
   ]
  },
  {
   "cell_type": "code",
   "execution_count": null,
   "id": "6521b33e-1883-4b95-be61-d2681a4550ba",
   "metadata": {
    "tags": []
   },
   "outputs": [],
   "source": [
    "num_tasks = len(tasks)"
   ]
  },
  {
   "cell_type": "code",
   "execution_count": null,
   "id": "f370e5be-a768-425f-96b4-ca93a9f50f38",
   "metadata": {},
   "outputs": [],
   "source": [
    "min_max_scores = {\n",
    "    \"ant\": (-6.7080652713775635, 3420.190185546875),\n",
    "    \"halfcheetah\": (-323.6818895675242, 5679.3515625),\n",
    "    \"hopper\": (14.777723520994186, 3838.20751953125),\n",
    "    \"walker2d\": (0.7858000923879445, 4437.2666015625),\n",
    "    \"swimmer\": (1.0794172366004204, 363.65631103515625),\n",
    "    \"reacher\": (-818.4641944468021, -54.64520263671875), \n",
    "    \"pusher\": (-1542.1742627620697, -155.21102905273438),\n",
    "    \"inverted_pendulum\": (5.0, 1000.0),\n",
    "    \"inverted_double_pendulum\": (155.97544860839844, 9359.9853515625),\n",
    "}"
   ]
  },
  {
   "cell_type": "markdown",
   "id": "e8b4dd91-56ba-4313-bfab-0d4909165f8c",
   "metadata": {},
   "source": [
    "### Compare final returns"
   ]
  },
  {
   "cell_type": "code",
   "execution_count": null,
   "id": "11258cb8-c3c6-48b9-b9aa-4cbf89f78240",
   "metadata": {},
   "outputs": [],
   "source": [
    "IQM = lambda x: metrics.aggregate_iqm(x) # Interquartile Mean\n",
    "MEAN = lambda x: metrics.aggregate_mean(x)\n",
    "MEDIAN = lambda x: metrics.aggregate_median(x)\n",
    "aggregate_func = lambda x: np.array([MEDIAN(x), IQM(x), MEAN(x)])"
   ]
  },
  {
   "cell_type": "code",
   "execution_count": null,
   "id": "266b02bc-81e6-44fd-9477-05a8d34626ee",
   "metadata": {
    "tags": []
   },
   "outputs": [],
   "source": [
    "num_demo_runs = 20\n",
    "num_demo_runs"
   ]
  },
  {
   "cell_type": "code",
   "execution_count": null,
   "id": "51539bc6-6797-42b0-9914-8e39951ab922",
   "metadata": {
    "tags": []
   },
   "outputs": [],
   "source": [
    "rewards_key = \"rewards\""
   ]
  },
  {
   "cell_type": "code",
   "execution_count": null,
   "id": "ec406ff3-6498-493b-a76a-7ca73f2ce7d6",
   "metadata": {},
   "outputs": [],
   "source": [
    "final_score_dict = {}\n",
    "for algorithm in algorithms:\n",
    "    scores = np.zeros((len(seeds) * num_demo_runs, num_tasks))\n",
    "    for i, task in enumerate(tasks):\n",
    "        scores[:, i] = df_final_score[(df_final_score[\"algorithm\"] == algorithm) & (df_final_score[\"env\"] == task)][rewards_key].values.copy()\n",
    "        scores[:, i] = (scores[:, i] - min_max_scores[task][0]) / (min_max_scores[task][1] - min_max_scores[task][0])\n",
    "    final_score_dict[algorithm] = scores"
   ]
  },
  {
   "cell_type": "code",
   "execution_count": null,
   "id": "842b4e97-6337-4f19-b8d9-23ed805ce31c",
   "metadata": {
    "tags": []
   },
   "outputs": [],
   "source": [
    "if data_name == \"target_kl\":\n",
    "    color_palette = sns.color_palette(\"icefire\", n_colors=len(algorithms))\n",
    "elif data_name == \"test\":\n",
    "    palette = sns.color_palette(\"Paired\")\n",
    "    color_palette = palette[2:4] + palette[6:8]\n",
    "color_palette"
   ]
  },
  {
   "cell_type": "markdown",
   "id": "562246df-be52-4344-9393-07f21391e435",
   "metadata": {},
   "source": [
    "#### Performance Profiles"
   ]
  },
  {
   "cell_type": "code",
   "execution_count": null,
   "id": "a7d2174c-7db2-49fd-89e3-dfa670f7168c",
   "metadata": {
    "tags": []
   },
   "outputs": [],
   "source": [
    "thresholds = np.linspace(0.0, 1.1, 100)\n",
    "score_distributions, score_distributions_cis = rly.create_performance_profile(\n",
    "    final_score_dict, thresholds\n",
    ")"
   ]
  },
  {
   "cell_type": "code",
   "execution_count": null,
   "id": "be92d54b-2467-4e66-9b80-9dec1bf45c03",
   "metadata": {
    "tags": []
   },
   "outputs": [],
   "source": [
    "df_perfprof = pd.DataFrame(score_distributions).melt().rename(columns={\"variable\": \"algorithm\", \"value\": \"score\"})\n",
    "df_perfprof[\"tau\"] = np.tile(thresholds, len(algorithms))\n",
    "df_perfprof"
   ]
  },
  {
   "cell_type": "code",
   "execution_count": null,
   "id": "605f35e3-828f-4dcc-bb2c-ad883098a44c",
   "metadata": {},
   "outputs": [],
   "source": [
    "x_label = r\"Normalized Score $(\\tau )$\"\n",
    "y_label = r\"Fraction of runs with score $> \\tau$\""
   ]
  },
  {
   "cell_type": "code",
   "execution_count": null,
   "id": "5eb52549-6dd7-4f83-9f2b-f368d2abfcdc",
   "metadata": {
    "tags": []
   },
   "outputs": [],
   "source": [
    "colors = dict(zip(algorithms, color_palette))\n",
    "\n",
    "fig = sns.lineplot(\n",
    "    data=df_perfprof,\n",
    "    x=\"tau\",\n",
    "    y=\"score\",\n",
    "    hue=\"algorithm\",\n",
    "    style=\"algorithm\",\n",
    "    palette=color_palette,\n",
    ")\n",
    "for algorithm in algorithms:\n",
    "    lower, upper = score_distributions_cis[algorithm]\n",
    "    fig.fill_between(thresholds, y1=lower, y2=upper, color=colors[algorithm], alpha=0.2)\n",
    "\n",
    "fig.set_xlabel(x_label)\n",
    "fig.set_ylabel(y_label)\n",
    "# fig.legend(title=\"Algorithm\", loc='center left', bbox_to_anchor=(1., .5), fontsize=20)\n",
    "fig.legend(title=\"Algorithm\", loc='upper center', bbox_to_anchor=(.5, 1.2), fontsize=20, ncol=2)\n",
    "\n",
    "fig.figure.savefig(\"fig/perfprof.pdf\", bbox_inches=\"tight\")"
   ]
  },
  {
   "cell_type": "markdown",
   "id": "6c6ea5d6-f898-4e27-9f68-4fde4e882fdc",
   "metadata": {},
   "source": [
    "#### Metrics with 95% stratified bootstrap CIs"
   ]
  },
  {
   "cell_type": "code",
   "execution_count": null,
   "id": "e5f90daf-48e8-4178-a022-7d26acf467b2",
   "metadata": {},
   "outputs": [],
   "source": [
    "aggregate_final_scores, aggregate_final_interval_estimates = rly.get_interval_estimates(\n",
    "    score_dict=final_score_dict,\n",
    "    func=aggregate_func,\n",
    ")"
   ]
  },
  {
   "cell_type": "code",
   "execution_count": null,
   "id": "39a0c69e-3ea6-4bdd-b7d8-50d999deee18",
   "metadata": {},
   "outputs": [],
   "source": [
    "plt.rcParams['font.size'] = 8\n",
    "y_label = \"Normalized Score\""
   ]
  },
  {
   "cell_type": "code",
   "execution_count": null,
   "id": "97c1ecae-b8ac-4732-b083-d4dcd5aa0e99",
   "metadata": {},
   "outputs": [],
   "source": [
    "fig, axes = plot_utils.plot_interval_estimates(\n",
    "    aggregate_final_scores, \n",
    "    aggregate_final_interval_estimates,\n",
    "    metric_names = ['Median', 'IQM', 'Mean'],\n",
    "    algorithms=algorithms,\n",
    "    color_palette=color_palette,\n",
    "    xlabel_y_coordinate=-0.25,\n",
    "    xlabel=y_label\n",
    ")\n",
    "\n",
    "fig.figure.savefig(\"fig/final_return.pdf\", bbox_inches=\"tight\")"
   ]
  },
  {
   "cell_type": "markdown",
   "id": "a936c9e7-bb34-4a64-a66f-6f9d88b2b9f4",
   "metadata": {},
   "source": [
    "### Plot target KL divergence"
   ]
  },
  {
   "cell_type": "code",
   "execution_count": null,
   "id": "ed4e3c78-b83a-4777-9354-33fd1024d064",
   "metadata": {},
   "outputs": [],
   "source": [
    "task = tasks[0]"
   ]
  },
  {
   "cell_type": "code",
   "execution_count": null,
   "id": "8760ed19-b345-4129-a7de-b6e85057714b",
   "metadata": {},
   "outputs": [],
   "source": [
    "x_label = \"$\\#$ Updates\"\n",
    "y_label = \"Trust Region Radius\""
   ]
  },
  {
   "cell_type": "code",
   "execution_count": null,
   "id": "cdadc49d-6e37-4c73-b0cc-fe8b207c473c",
   "metadata": {},
   "outputs": [],
   "source": [
    "fig = sns.lineplot(\n",
    "    df[df[\"env\"] == task],\n",
    "    x=\"n_updates\",\n",
    "    y=\"train/target_kl\",\n",
    "    hue=\"algorithm\",\n",
    "    hue_order=algorithms,\n",
    "    style=\"algorithm\",\n",
    "    units=\"seed\",\n",
    "    estimator=None,\n",
    "    dashes=True,\n",
    "    # markers=True,\n",
    "    errorbar=\"ci\",\n",
    "    palette=color_palette\n",
    ")\n",
    "fig.set_xticks(x_ticks)\n",
    "\n",
    "fig.set_xlabel(x_label)\n",
    "fig.set_ylabel(y_label)\n",
    "# fig.legend(title=\"Algorithm\", loc='center left', bbox_to_anchor=(1., .5), fontsize=20)\n",
    "fig.legend(title=\"Algorithm\", loc='upper center', bbox_to_anchor=(.5, 1.2), fontsize=20, ncol=2)\n",
    "# fig.legend(title=\"Algorithm\", loc='best', fontsize=20)\n",
    "\n",
    "fig.figure.savefig(\"fig/target_kl.pdf\", bbox_inches=\"tight\")"
   ]
  },
  {
   "cell_type": "code",
   "execution_count": null,
   "id": "b0864f1f-43c4-4e22-99d5-b0b1265b7641",
   "metadata": {},
   "outputs": [],
   "source": []
  }
 ],
 "metadata": {
  "kernelspec": {
   "display_name": "Python 3 (ipykernel)",
   "language": "python",
   "name": "python3"
  },
  "language_info": {
   "codemirror_mode": {
    "name": "ipython",
    "version": 3
   },
   "file_extension": ".py",
   "mimetype": "text/x-python",
   "name": "python",
   "nbconvert_exporter": "python",
   "pygments_lexer": "ipython3",
   "version": "3.10.12"
  }
 },
 "nbformat": 4,
 "nbformat_minor": 5
}
