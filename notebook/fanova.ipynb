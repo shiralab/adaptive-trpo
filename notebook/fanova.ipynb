{
 "cells": [
  {
   "cell_type": "markdown",
   "id": "82de4509-4dc5-4e6e-93ff-d395fab21273",
   "metadata": {},
   "source": [
    "# Plot fANOVA from the csv file of the HPO results\n",
    "If you want to run this notebook, I recommend doing it in a separate virtual environment to avoid library dependency issues."
   ]
  },
  {
   "cell_type": "code",
   "execution_count": null,
   "id": "de03e3b7-239e-4de6-b871-db7cbe4771a9",
   "metadata": {},
   "outputs": [],
   "source": [
    "import random\n",
    "\n",
    "import ConfigSpace\n",
    "from ConfigSpace.hyperparameters import UniformFloatHyperparameter\n",
    "from fanova import fANOVA\n",
    "import matplotlib.pyplot as plt\n",
    "import numpy as np\n",
    "import pandas as pd\n",
    "import seaborn as sns\n",
    "np.float = float"
   ]
  },
  {
   "cell_type": "code",
   "execution_count": null,
   "id": "c6681980-f2e5-4f2e-807c-4d5db2e7c263",
   "metadata": {},
   "outputs": [],
   "source": [
    "pd.set_option('display.max_columns', 50)\n",
    "sns.set_theme(style=\"darkgrid\")\n",
    "sns.set_context(\"notebook\", font_scale=1.5, rc={\"font.size\":20,\"axes.titlesize\":20,\"axes.labelsize\":20}) \n",
    "plt.rcParams['figure.figsize'] = (8, 6)\n",
    "plt.rcParams['font.size'] = 20\n",
    "plt.rcParams['font.family'] = 'sans-serif'\n",
    "plt.rcParams['mathtext.fontset'] = 'cm'\n",
    "plt.rcParams['xtick.labelsize'] = 20\n",
    "plt.rcParams['ytick.labelsize'] = 20\n",
    "plt.rcParams['legend.frameon'] = True"
   ]
  },
  {
   "cell_type": "code",
   "execution_count": null,
   "id": "518ebf25-db60-44cc-b2b4-77bc03df3d32",
   "metadata": {},
   "outputs": [],
   "source": [
    "seed = 100\n",
    "random.seed(seed)\n",
    "np.random.seed(seed)"
   ]
  },
  {
   "cell_type": "code",
   "execution_count": null,
   "id": "0a50d42d-23b5-4e1c-acd0-a781eb5aeb44",
   "metadata": {},
   "outputs": [],
   "source": [
    "df = pd.read_csv(\"final_score.csv\").drop(columns=[\"Unnamed: 0\"])\n",
    "df = df[df[\"algorithm\"] == \"adaptive-trpo\"]\n",
    "df"
   ]
  },
  {
   "cell_type": "code",
   "execution_count": null,
   "id": "ec84e36c-cf8c-444c-980b-beb6fb87bb68",
   "metadata": {},
   "outputs": [],
   "source": [
    "env = \"walker2d\"  # \"hopper\""
   ]
  },
  {
   "cell_type": "code",
   "execution_count": null,
   "id": "dbded14d-cd4f-4cac-80fc-e410d8177d58",
   "metadata": {},
   "outputs": [],
   "source": [
    "df_env = df[df[\"env\"] == env].reset_index(drop=True)"
   ]
  },
  {
   "cell_type": "code",
   "execution_count": null,
   "id": "203edbd1-4db3-4cd9-912f-dcd900fa1c7b",
   "metadata": {},
   "outputs": [],
   "source": [
    "x = df_env[[\"init_target_kl\", \"target_snr\", \"update_strength\", \"smoothing_coeff\"]]\n",
    "y = df_env[\"rewards\"]"
   ]
  },
  {
   "cell_type": "code",
   "execution_count": null,
   "id": "0c8c9bac-c835-45db-b87e-31313e36e575",
   "metadata": {},
   "outputs": [],
   "source": [
    "x"
   ]
  },
  {
   "cell_type": "code",
   "execution_count": null,
   "id": "da62bcef-cdca-4658-92ef-9d41621e50e6",
   "metadata": {},
   "outputs": [],
   "source": [
    "y"
   ]
  },
  {
   "cell_type": "code",
   "execution_count": null,
   "id": "936b5e2f-5bc9-4d1c-bfdc-c3a4b89fd290",
   "metadata": {},
   "outputs": [],
   "source": [
    "config_space = ConfigSpace.ConfigurationSpace()\n",
    "config_space.add(UniformFloatHyperparameter(name=\"init_target_kl\", log=True, lower=0.0001, upper=0.1))\n",
    "config_space.add(UniformFloatHyperparameter(name=\"target_snr\", log=False, lower=1.0, upper=5.0))\n",
    "config_space.add(UniformFloatHyperparameter(name=\"update_strength\", log=False, lower=0.0001, upper=0.1))\n",
    "config_space.add(UniformFloatHyperparameter(name=\"smoothing_coeff\", log=False, lower=0.0, upper=1.0))"
   ]
  },
  {
   "cell_type": "code",
   "execution_count": null,
   "id": "c66a934e-0f43-4a55-94da-42b12ee86a61",
   "metadata": {},
   "outputs": [],
   "source": [
    "f = fANOVA(x, y, config_space=config_space, seed=seed)"
   ]
  },
  {
   "cell_type": "code",
   "execution_count": null,
   "id": "425f68eb-5930-4f48-86c3-951a022e3773",
   "metadata": {},
   "outputs": [],
   "source": [
    "f.quantify_importance(dims=(\"init_target_kl\", \"target_snr\", \"update_strength\", \"smoothing_coeff\"))"
   ]
  },
  {
   "cell_type": "code",
   "execution_count": null,
   "id": "611920a3-6954-41fd-8395-f686acd9c55e",
   "metadata": {},
   "outputs": [],
   "source": [
    "df_fractions = pd.DataFrame()\n",
    "for i in range(4):\n",
    "    dim = (i,)\n",
    "    fractions_individual = np.array([f.V_U_individual[dim][t] / f.trees_total_variance[t] for t in range(f.n_trees)])\n",
    "    df_fractions[f.cs.at[i]] = fractions_individual"
   ]
  },
  {
   "cell_type": "code",
   "execution_count": null,
   "id": "149e4df7-7291-4bb9-8a76-be1cd49a6fba",
   "metadata": {},
   "outputs": [],
   "source": [
    "df_fractions"
   ]
  },
  {
   "cell_type": "code",
   "execution_count": null,
   "id": "070064d1-1187-486d-9598-23551aa749d6",
   "metadata": {},
   "outputs": [],
   "source": [
    "xticks_dict = {\"init_target_kl\": r\"$\\delta_{\\text{init}}$\", \"smoothing_coeff\": r\"$\\beta$\", \"target_snr\": r\"$\\alpha$\", \"update_strength\": r\"$\\lambda$\"}"
   ]
  },
  {
   "cell_type": "code",
   "execution_count": null,
   "id": "5a481f2f-690e-44a8-ad09-ca22c342fc5c",
   "metadata": {},
   "outputs": [],
   "source": [
    "fig = sns.boxplot(df_fractions)\n",
    "\n",
    "xticks = fig.get_xticklabels()\n",
    "fig.set_xticklabels([xticks_dict[s.get_text()] for s in xticks])\n",
    "\n",
    "fig.figure.savefig(f\"fanova_{env}.pdf\", bbox_inches=\"tight\")"
   ]
  },
  {
   "cell_type": "code",
   "execution_count": null,
   "id": "318bc01d-d25a-4d9d-b403-969a4b1f06ed",
   "metadata": {},
   "outputs": [],
   "source": []
  }
 ],
 "metadata": {
  "kernelspec": {
   "display_name": "Python 3 (ipykernel)",
   "language": "python",
   "name": "python3"
  },
  "language_info": {
   "codemirror_mode": {
    "name": "ipython",
    "version": 3
   },
   "file_extension": ".py",
   "mimetype": "text/x-python",
   "name": "python",
   "nbconvert_exporter": "python",
   "pygments_lexer": "ipython3",
   "version": "3.10.12"
  }
 },
 "nbformat": 4,
 "nbformat_minor": 5
}
