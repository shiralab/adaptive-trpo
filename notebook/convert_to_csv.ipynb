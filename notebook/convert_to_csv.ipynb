{
 "cells": [
  {
   "cell_type": "markdown",
   "id": "a0ab4f11-f09b-4404-8c79-19bf15ccb035",
   "metadata": {},
   "source": [
    "# Convert log files of MLflow and WandB to csv files"
   ]
  },
  {
   "cell_type": "code",
   "execution_count": null,
   "id": "59e460b8-c0f3-43b2-8a50-7385ec1b42ac",
   "metadata": {
    "tags": []
   },
   "outputs": [],
   "source": [
    "import os\n",
    "\n",
    "import mlflow\n",
    "import wandb\n",
    "import pandas as pd\n",
    "import numpy as np"
   ]
  },
  {
   "cell_type": "markdown",
   "id": "943a688b-de3b-48c9-aaea-c883065112da",
   "metadata": {},
   "source": [
    "## MLflow"
   ]
  },
  {
   "cell_type": "code",
   "execution_count": null,
   "id": "9f565817-624c-4d04-bc3f-e812a87c2177",
   "metadata": {
    "tags": []
   },
   "outputs": [],
   "source": [
    "os.chdir(\"..\")"
   ]
  },
  {
   "cell_type": "code",
   "execution_count": null,
   "id": "8fd19998-fcb5-4e6e-87bf-85f971a555f3",
   "metadata": {
    "tags": []
   },
   "outputs": [],
   "source": [
    "# Replace following experiment id to your desired one\n",
    "experiment_ids = [\"1\"]\n",
    "\n",
    "runs_df = mlflow.search_runs(experiment_ids=experiment_ids)\n",
    "runs_df"
   ]
  },
  {
   "cell_type": "code",
   "execution_count": null,
   "id": "80f8e418-2fd3-42a8-8e0b-36f765b06ba9",
   "metadata": {
    "tags": []
   },
   "outputs": [],
   "source": [
    "runs = mlflow.search_runs(experiment_ids=experiment_ids, output_format=\"list\")\n",
    "keys = runs[0].data.metrics.keys()\n",
    "client = mlflow.tracking.MlflowClient()"
   ]
  },
  {
   "cell_type": "code",
   "execution_count": null,
   "id": "2cd24913-0a06-48ea-abe6-e2b5ed954014",
   "metadata": {
    "tags": []
   },
   "outputs": [],
   "source": [
    "param_keys = [\"experiment.seed\", \"algorithm.name\", \"env.name\"]\n",
    "extra_keys = [\n",
    "    \"algorithm.target_kl\",\n",
    "]\n",
    "param_keys += extra_keys"
   ]
  },
  {
   "cell_type": "code",
   "execution_count": null,
   "id": "c5ab1691-e7f3-40b8-a574-2c77c633ae58",
   "metadata": {
    "tags": []
   },
   "outputs": [],
   "source": [
    "def convert_metric_history_to_dataframe(run):\n",
    "    run_id = run.info.run_id\n",
    "    df = pd.DataFrame()\n",
    "    for key in keys:\n",
    "        history = client.get_metric_history(run_id=run_id, key=key)\n",
    "        df = pd.concat([df, pd.DataFrame({key: [m.value for m in history]})], axis=1)\n",
    "    df[\"run_id\"] = run_id\n",
    "    for param_key in param_keys:\n",
    "        df[param_key] = run.data.params[param_key]\n",
    "    return df"
   ]
  },
  {
   "cell_type": "code",
   "execution_count": null,
   "id": "3b3bf6f2-8bda-4d84-9850-4b4c6a0f9baa",
   "metadata": {
    "tags": []
   },
   "outputs": [],
   "source": [
    "df_list = []\n",
    "for run in runs:\n",
    "    df_list.append(convert_metric_history_to_dataframe(run))\n",
    "df = pd.concat(df_list)"
   ]
  },
  {
   "cell_type": "code",
   "execution_count": null,
   "id": "51359081-c371-45db-b7c0-82352f9e9b3d",
   "metadata": {
    "tags": []
   },
   "outputs": [],
   "source": [
    "df"
   ]
  },
  {
   "cell_type": "code",
   "execution_count": null,
   "id": "b68eeeb2-c8be-4afe-8199-b57626f2a885",
   "metadata": {
    "tags": []
   },
   "outputs": [],
   "source": [
    "df_final_score = df.dropna(subset=[\"demo/episode_reward_best_model\"])[[\n",
    "    \"demo/episode_reward_best_model\",\n",
    "    \"demo/episode_reward_final_model\",\n",
    "    \"time/iterations\",\n",
    "    \"experiment.seed\",\n",
    "    \"algorithm.name\",\n",
    "    \"env.name\",\n",
    "    \"algorithm.target_kl\"\n",
    "]]\n",
    "df_final_score"
   ]
  },
  {
   "cell_type": "code",
   "execution_count": null,
   "id": "0b783cb3-72fe-4eec-815a-92bb2dba855a",
   "metadata": {
    "tags": []
   },
   "outputs": [],
   "source": [
    "df_train = df.dropna(subset=[\"eval/mean_reward\"])[[\n",
    "    \"eval/mean_reward\",\n",
    "    \"train/n_updates\",\n",
    "    \"train/s_over_gamma\",\n",
    "    \"train/estimated_snr\",\n",
    "    \"experiment.seed\",\n",
    "    \"algorithm.name\",\n",
    "    \"env.name\",\n",
    "    \"algorithm.target_kl\"\n",
    "]]\n",
    "df_train"
   ]
  },
  {
   "cell_type": "code",
   "execution_count": null,
   "id": "85846cef-57f2-435f-bc65-ea9ddd721ab0",
   "metadata": {},
   "outputs": [],
   "source": [
    "df_final_score.to_csv(\"data/test/final_score.csv\")\n",
    "df_train.to_csv(\"data/test/train.csv\")"
   ]
  },
  {
   "cell_type": "markdown",
   "id": "bfd462d1-2952-46ff-a77b-9c5ce1723beb",
   "metadata": {},
   "source": [
    "## WandB"
   ]
  },
  {
   "cell_type": "code",
   "execution_count": null,
   "id": "764c410b-179a-4a9d-9d78-2cd087c1cbe5",
   "metadata": {
    "tags": []
   },
   "outputs": [],
   "source": [
    "api = wandb.Api(timeout=29)"
   ]
  },
  {
   "cell_type": "code",
   "execution_count": null,
   "id": "908cb144-4784-47c3-bdf3-2f2f69ab0508",
   "metadata": {
    "tags": []
   },
   "outputs": [],
   "source": [
    "from collections.abc import MutableMapping\n",
    "\n",
    "def flatten(dictionary, parent_key='', separator='.'):\n",
    "    items = []\n",
    "    for key, value in dictionary.items():\n",
    "        new_key = parent_key + separator + key if parent_key else key\n",
    "        if isinstance(value, MutableMapping):\n",
    "            items.extend(flatten(value, new_key, separator=separator).items())\n",
    "        else:\n",
    "            items.append((new_key, value))\n",
    "    return dict(items)"
   ]
  },
  {
   "cell_type": "code",
   "execution_count": null,
   "id": "0cf6a91d-8420-427a-a1ec-d0178d8b9436",
   "metadata": {
    "tags": []
   },
   "outputs": [],
   "source": [
    "# Replace following placeholders with your entity and project\n",
    "entity, project = \"<entity>\", \"<project>\""
   ]
  },
  {
   "cell_type": "code",
   "execution_count": null,
   "id": "15e1a001-2fe3-44be-ba97-c451910c1014",
   "metadata": {
    "tags": []
   },
   "outputs": [],
   "source": [
    "all_tasks = [\n",
    "    \"hopper\",\n",
    "    \"walker2d\",\n",
    "    \"ant\",\n",
    "    \"halfcheetah\",\n",
    "    \"swimmer\",\n",
    "    \"reacher\",\n",
    "    \"inverted_double_pendulum\",\n",
    "    \"pusher\",\n",
    "]"
   ]
  },
  {
   "cell_type": "code",
   "execution_count": null,
   "id": "8634bd2a-4b01-487a-9b34-1912bffc8246",
   "metadata": {
    "tags": []
   },
   "outputs": [],
   "source": [
    "filters = {\"$or\": [{\"config.env.name\": task} for task in all_tasks]}"
   ]
  },
  {
   "cell_type": "code",
   "execution_count": null,
   "id": "8eb1fcde-a7b3-46ef-b2ef-8cbc1c820d91",
   "metadata": {
    "tags": []
   },
   "outputs": [],
   "source": [
    "runs = []\n",
    "runs += api.runs(path=f\"{entity}/{project}\", filters=filters)\n",
    "len(runs)"
   ]
  },
  {
   "cell_type": "code",
   "execution_count": null,
   "id": "1b37a966-20e0-4ecc-8dd6-d93b8889a7e0",
   "metadata": {
    "tags": []
   },
   "outputs": [],
   "source": [
    "demo_metric_key = \"demo/episode_reward_final_model\"\n",
    "demo_metric_key_old = \"demo/episode_reward\"\n",
    "demo_best_metric_key = \"demo/episode_reward_best_model\"\n",
    "train_metric_keys = [\n",
    "    \"eval/mean_reward\",\n",
    "    \"train/target_kl\",\n",
    "    \"train/s_over_gamma\",\n",
    "    \"train/estimated_snr\",\n",
    "]"
   ]
  },
  {
   "cell_type": "code",
   "execution_count": null,
   "id": "4adac3b2-7bac-4a68-a419-48b7b6a88289",
   "metadata": {
    "tags": []
   },
   "outputs": [],
   "source": [
    "df_train = pd.DataFrame()\n",
    "for run in runs:\n",
    "    config = flatten({k: v for k, v in run.config.items() if not k.startswith(\"_\")})\n",
    "    run_dict = {\n",
    "        \"env\": config[\"env.name\"],\n",
    "        \"seed\": config[\"experiment.seed\"],\n",
    "        \"algorithm\": config[\"algorithm.name\"],\n",
    "        \"init_target_kl\": config[\"algorithm.target_kl\"],\n",
    "    }\n",
    "    if config[\"algorithm.name\"] == \"adaptive-trpo\":\n",
    "        run_dict.update(\n",
    "            target_snr=config[\"algorithm.kl_update_ratio_func.target_snr\"],\n",
    "            update_strength=config[\"algorithm.kl_update_ratio_func.kl_update_strength_func.const\"],\n",
    "            smoothing_coeff=config[\"algorithm.smoothing_coeff_func.const\"],\n",
    "        )\n",
    "    rows = []\n",
    "    for i, row in enumerate(run.scan_history(keys=train_metric_keys)):\n",
    "        row_dict = dict(**run_dict, **row)\n",
    "        row_dict[\"n_updates\"] = i + 1\n",
    "        rows.append(row_dict)\n",
    "    run_df = pd.DataFrame(rows)\n",
    "    df_train = pd.concat([df_train, run_df])\n",
    "df_train"
   ]
  },
  {
   "cell_type": "code",
   "execution_count": null,
   "id": "d329f312-12ea-4818-91aa-8adcd48eb354",
   "metadata": {
    "tags": []
   },
   "outputs": [],
   "source": [
    "df_final_score = pd.DataFrame()\n",
    "for run in runs:\n",
    "    config = flatten({k: v for k, v in run.config.items() if not k.startswith(\"_\")})\n",
    "    rewards = [row[demo_metric_key] for row in run.scan_history(keys=[demo_metric_key])]\n",
    "    if len(rewards) == 0:\n",
    "        rewards = [row[demo_metric_key_old] for row in run.scan_history(keys=[demo_metric_key_old])]\n",
    "    run_dict = {\n",
    "        \"env\": config[\"env.name\"],\n",
    "        \"seed\": config[\"experiment.seed\"],\n",
    "        \"algorithm\": config[\"algorithm.name\"],\n",
    "        \"init_target_kl\": config[\"algorithm.target_kl\"],\n",
    "        \"rewards\": rewards,\n",
    "        \"rewards_best_model\": [row.get(demo_best_metric_key) for row in run.scan_history(keys=[demo_best_metric_key])],\n",
    "    }\n",
    "    if config[\"algorithm.name\"] == \"adaptive-trpo\":\n",
    "        run_dict.update(\n",
    "            target_snr=config[\"algorithm.kl_update_ratio_func.target_snr\"],\n",
    "            update_strength=config[\"algorithm.kl_update_ratio_func.kl_update_strength_func.const\"],\n",
    "            smoothing_coeff=config[\"algorithm.smoothing_coeff_func.const\"],\n",
    "        )\n",
    "    run_df = pd.DataFrame(run_dict)\n",
    "    df_final_score = pd.concat([df_final_score, run_df])\n",
    "df_final_score"
   ]
  },
  {
   "cell_type": "code",
   "execution_count": null,
   "id": "b21f114d-7201-4f39-95c4-1894f21ebbd7",
   "metadata": {
    "tags": []
   },
   "outputs": [],
   "source": [
    "df_train = df_train[[\"env\", \"seed\", \"algorithm\", \"init_target_kl\", \"eval/mean_reward\", \"train/s_over_gamma\", \"train/estimated_snr\", \"n_updates\"]]\n",
    "df_train"
   ]
  },
  {
   "cell_type": "code",
   "execution_count": null,
   "id": "57007b80-eadc-49f0-adc3-b2d1b858ff4c",
   "metadata": {
    "tags": []
   },
   "outputs": [],
   "source": [
    "df_final_score.to_csv(\"../data/test/final_score.csv\")\n",
    "df_train.to_csv(\"../data/test/train.csv\")"
   ]
  }
 ],
 "metadata": {
  "kernelspec": {
   "display_name": "Python 3 (ipykernel)",
   "language": "python",
   "name": "python3"
  },
  "language_info": {
   "codemirror_mode": {
    "name": "ipython",
    "version": 3
   },
   "file_extension": ".py",
   "mimetype": "text/x-python",
   "name": "python",
   "nbconvert_exporter": "python",
   "pygments_lexer": "ipython3",
   "version": "3.10.12"
  }
 },
 "nbformat": 4,
 "nbformat_minor": 5
}
